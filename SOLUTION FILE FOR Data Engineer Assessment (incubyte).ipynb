{
 "cells": [
  {
   "cell_type": "code",
   "execution_count": 5,
   "metadata": {},
   "outputs": [],
   "source": [
    "import pandas as pd\n",
    "import numpy as np"
   ]
  },
  {
   "cell_type": "code",
   "execution_count": 6,
   "metadata": {},
   "outputs": [],
   "source": [
    "import pyodbc"
   ]
  },
  {
   "cell_type": "code",
   "execution_count": 7,
   "metadata": {},
   "outputs": [],
   "source": [
    "data = pd.read_csv(\"Incubyte2.csv\")"
   ]
  },
  {
   "cell_type": "markdown",
   "metadata": {},
   "source": [
    "# Importing Data"
   ]
  },
  {
   "cell_type": "code",
   "execution_count": 92,
   "metadata": {},
   "outputs": [
    {
     "data": {
      "text/html": [
       "<div>\n",
       "<style scoped>\n",
       "    .dataframe tbody tr th:only-of-type {\n",
       "        vertical-align: middle;\n",
       "    }\n",
       "\n",
       "    .dataframe tbody tr th {\n",
       "        vertical-align: top;\n",
       "    }\n",
       "\n",
       "    .dataframe thead th {\n",
       "        text-align: right;\n",
       "    }\n",
       "</style>\n",
       "<table border=\"1\" class=\"dataframe\">\n",
       "  <thead>\n",
       "    <tr style=\"text-align: right;\">\n",
       "      <th></th>\n",
       "      <th>Customer_Name</th>\n",
       "      <th>Customer_ID</th>\n",
       "      <th>Customer_Open_Date</th>\n",
       "      <th>Last_Consulted_Date</th>\n",
       "      <th>Vaccination_Type</th>\n",
       "      <th>Doctor_Consulted</th>\n",
       "      <th>State</th>\n",
       "      <th>Country</th>\n",
       "      <th>Postcode</th>\n",
       "      <th>FLAG</th>\n",
       "    </tr>\n",
       "  </thead>\n",
       "  <tbody>\n",
       "    <tr>\n",
       "      <th>0</th>\n",
       "      <td>Alex</td>\n",
       "      <td>123457</td>\n",
       "      <td>20101012</td>\n",
       "      <td>20121013</td>\n",
       "      <td>MVD</td>\n",
       "      <td>Paul</td>\n",
       "      <td>SA</td>\n",
       "      <td>USA</td>\n",
       "      <td>121002</td>\n",
       "      <td>A</td>\n",
       "    </tr>\n",
       "    <tr>\n",
       "      <th>1</th>\n",
       "      <td>John</td>\n",
       "      <td>123458</td>\n",
       "      <td>20101012</td>\n",
       "      <td>20121013</td>\n",
       "      <td>MVD</td>\n",
       "      <td>Paul</td>\n",
       "      <td>TN</td>\n",
       "      <td>IND</td>\n",
       "      <td>121002</td>\n",
       "      <td>A</td>\n",
       "    </tr>\n",
       "    <tr>\n",
       "      <th>2</th>\n",
       "      <td>Mathew</td>\n",
       "      <td>123459</td>\n",
       "      <td>20101012</td>\n",
       "      <td>20121013</td>\n",
       "      <td>MVD</td>\n",
       "      <td>Paul</td>\n",
       "      <td>WAS</td>\n",
       "      <td>PHIL</td>\n",
       "      <td>121002</td>\n",
       "      <td>A</td>\n",
       "    </tr>\n",
       "    <tr>\n",
       "      <th>3</th>\n",
       "      <td>Matt</td>\n",
       "      <td>12345</td>\n",
       "      <td>20101012</td>\n",
       "      <td>20121013</td>\n",
       "      <td>MVD</td>\n",
       "      <td>Paul</td>\n",
       "      <td>BOS</td>\n",
       "      <td>NYC</td>\n",
       "      <td>121002</td>\n",
       "      <td>A</td>\n",
       "    </tr>\n",
       "    <tr>\n",
       "      <th>4</th>\n",
       "      <td>Jacob</td>\n",
       "      <td>1256</td>\n",
       "      <td>20101012</td>\n",
       "      <td>20121013</td>\n",
       "      <td>MVD</td>\n",
       "      <td>Paul</td>\n",
       "      <td>VIC</td>\n",
       "      <td>AU</td>\n",
       "      <td>121002</td>\n",
       "      <td>A</td>\n",
       "    </tr>\n",
       "  </tbody>\n",
       "</table>\n",
       "</div>"
      ],
      "text/plain": [
       "  Customer_Name  Customer_ID  Customer_Open_Date  Last_Consulted_Date  \\\n",
       "0          Alex       123457            20101012             20121013   \n",
       "1         John        123458            20101012             20121013   \n",
       "2        Mathew       123459            20101012             20121013   \n",
       "3          Matt        12345            20101012             20121013   \n",
       "4         Jacob         1256            20101012             20121013   \n",
       "\n",
       "  Vaccination_Type Doctor_Consulted State Country   Postcode FLAG  \n",
       "0              MVD             Paul    SA      USA    121002    A  \n",
       "1              MVD             Paul    TN      IND    121002    A  \n",
       "2              MVD             Paul   WAS     PHIL    121002    A  \n",
       "3              MVD             Paul   BOS     NYC     121002    A  \n",
       "4              MVD             Paul   VIC       AU    121002    A  "
      ]
     },
     "execution_count": 92,
     "metadata": {},
     "output_type": "execute_result"
    }
   ],
   "source": [
    "import numpy as np\n",
    "data.fillna(0)"
   ]
  },
  {
   "cell_type": "code",
   "execution_count": 9,
   "metadata": {},
   "outputs": [],
   "source": [
    "def mandate(input):\n",
    "    if (input == \"Yes\"):\n",
    "        print(data.Customer_Name, data.Customer_ID, data.Customer_Open_Date)\n",
    "        \n",
    "    elif input == \"No\":\n",
    "          print(data)"
   ]
  },
  {
   "cell_type": "code",
   "execution_count": 10,
   "metadata": {},
   "outputs": [
    {
     "name": "stdout",
     "output_type": "stream",
     "text": [
      "0      Alex\n",
      "1     John \n",
      "2    Mathew\n",
      "3      Matt\n",
      "4     Jacob\n",
      "Name: Customer_Name, dtype: object 0    123457\n",
      "1    123458\n",
      "2    123459\n",
      "3     12345\n",
      "4      1256\n",
      "Name: Customer_ID, dtype: int64 0    20101012\n",
      "1    20101012\n",
      "2    20101012\n",
      "3    20101012\n",
      "4    20101012\n",
      "Name: Customer_Open_Date, dtype: int64\n"
     ]
    }
   ],
   "source": [
    "mandate(\"Yes\")"
   ]
  },
  {
   "cell_type": "code",
   "execution_count": 11,
   "metadata": {},
   "outputs": [
    {
     "name": "stdout",
     "output_type": "stream",
     "text": [
      "  Customer_Name  Customer_ID  Customer_Open_Date  Last_Consulted_Date  \\\n",
      "0          Alex       123457            20101012             20121013   \n",
      "1         John        123458            20101012             20121013   \n",
      "2        Mathew       123459            20101012             20121013   \n",
      "3          Matt        12345            20101012             20121013   \n",
      "4         Jacob         1256            20101012             20121013   \n",
      "\n",
      "  Vaccination_Type Doctor_Consulted State Country   Postcode FLAG  \n",
      "0              MVD             Paul    SA      USA    121002    A  \n",
      "1              MVD             Paul    TN      IND    121002    A  \n",
      "2              MVD             Paul   WAS     PHIL    121002    A  \n",
      "3              MVD             Paul   BOS     NYC     121002    A  \n",
      "4              MVD             Paul   VIC       AU    121002    A  \n"
     ]
    }
   ],
   "source": [
    "mandate(\"No\")"
   ]
  },
  {
   "cell_type": "code",
   "execution_count": 237,
   "metadata": {},
   "outputs": [],
   "source": [
    "#df = pd.DataFrame(data, columns= ['Customer_Name','Customer ID','Customer Open Date','Last Consulted Date','Vaccination Type','Doctor Consulted','State','Country','Postcode','DOB','FLAG'])"
   ]
  },
  {
   "cell_type": "code",
   "execution_count": 12,
   "metadata": {},
   "outputs": [
    {
     "data": {
      "text/html": [
       "<div>\n",
       "<style scoped>\n",
       "    .dataframe tbody tr th:only-of-type {\n",
       "        vertical-align: middle;\n",
       "    }\n",
       "\n",
       "    .dataframe tbody tr th {\n",
       "        vertical-align: top;\n",
       "    }\n",
       "\n",
       "    .dataframe thead th {\n",
       "        text-align: right;\n",
       "    }\n",
       "</style>\n",
       "<table border=\"1\" class=\"dataframe\">\n",
       "  <thead>\n",
       "    <tr style=\"text-align: right;\">\n",
       "      <th></th>\n",
       "      <th>Customer_Name</th>\n",
       "      <th>Customer_ID</th>\n",
       "      <th>Customer_Open_Date</th>\n",
       "      <th>Last_Consulted_Date</th>\n",
       "      <th>Vaccination_Type</th>\n",
       "      <th>Doctor_Consulted</th>\n",
       "      <th>State</th>\n",
       "      <th>Country</th>\n",
       "      <th>Postcode</th>\n",
       "      <th>FLAG</th>\n",
       "    </tr>\n",
       "  </thead>\n",
       "  <tbody>\n",
       "    <tr>\n",
       "      <th>0</th>\n",
       "      <td>Alex</td>\n",
       "      <td>123457</td>\n",
       "      <td>20101012</td>\n",
       "      <td>20121013</td>\n",
       "      <td>MVD</td>\n",
       "      <td>Paul</td>\n",
       "      <td>SA</td>\n",
       "      <td>USA</td>\n",
       "      <td>121002</td>\n",
       "      <td>A</td>\n",
       "    </tr>\n",
       "    <tr>\n",
       "      <th>1</th>\n",
       "      <td>John</td>\n",
       "      <td>123458</td>\n",
       "      <td>20101012</td>\n",
       "      <td>20121013</td>\n",
       "      <td>MVD</td>\n",
       "      <td>Paul</td>\n",
       "      <td>TN</td>\n",
       "      <td>IND</td>\n",
       "      <td>121002</td>\n",
       "      <td>A</td>\n",
       "    </tr>\n",
       "    <tr>\n",
       "      <th>2</th>\n",
       "      <td>Mathew</td>\n",
       "      <td>123459</td>\n",
       "      <td>20101012</td>\n",
       "      <td>20121013</td>\n",
       "      <td>MVD</td>\n",
       "      <td>Paul</td>\n",
       "      <td>WAS</td>\n",
       "      <td>PHIL</td>\n",
       "      <td>121002</td>\n",
       "      <td>A</td>\n",
       "    </tr>\n",
       "    <tr>\n",
       "      <th>3</th>\n",
       "      <td>Matt</td>\n",
       "      <td>12345</td>\n",
       "      <td>20101012</td>\n",
       "      <td>20121013</td>\n",
       "      <td>MVD</td>\n",
       "      <td>Paul</td>\n",
       "      <td>BOS</td>\n",
       "      <td>NYC</td>\n",
       "      <td>121002</td>\n",
       "      <td>A</td>\n",
       "    </tr>\n",
       "    <tr>\n",
       "      <th>4</th>\n",
       "      <td>Jacob</td>\n",
       "      <td>1256</td>\n",
       "      <td>20101012</td>\n",
       "      <td>20121013</td>\n",
       "      <td>MVD</td>\n",
       "      <td>Paul</td>\n",
       "      <td>VIC</td>\n",
       "      <td>AU</td>\n",
       "      <td>121002</td>\n",
       "      <td>A</td>\n",
       "    </tr>\n",
       "  </tbody>\n",
       "</table>\n",
       "</div>"
      ],
      "text/plain": [
       "  Customer_Name  Customer_ID  Customer_Open_Date  Last_Consulted_Date  \\\n",
       "0          Alex       123457            20101012             20121013   \n",
       "1         John        123458            20101012             20121013   \n",
       "2        Mathew       123459            20101012             20121013   \n",
       "3          Matt        12345            20101012             20121013   \n",
       "4         Jacob         1256            20101012             20121013   \n",
       "\n",
       "  Vaccination_Type Doctor_Consulted State Country   Postcode FLAG  \n",
       "0              MVD             Paul    SA      USA    121002    A  \n",
       "1              MVD             Paul    TN      IND    121002    A  \n",
       "2              MVD             Paul   WAS     PHIL    121002    A  \n",
       "3              MVD             Paul   BOS     NYC     121002    A  \n",
       "4              MVD             Paul   VIC       AU    121002    A  "
      ]
     },
     "execution_count": 12,
     "metadata": {},
     "output_type": "execute_result"
    }
   ],
   "source": [
    "data.head()"
   ]
  },
  {
   "cell_type": "code",
   "execution_count": 13,
   "metadata": {},
   "outputs": [
    {
     "data": {
      "text/plain": [
       "Customer_Name          object\n",
       "Customer_ID             int64\n",
       "Customer_Open_Date      int64\n",
       "Last_Consulted_Date     int64\n",
       "Vaccination_Type       object\n",
       "Doctor_Consulted       object\n",
       "State                  object\n",
       "Country                object\n",
       "Postcode                int64\n",
       "FLAG                   object\n",
       "dtype: object"
      ]
     },
     "execution_count": 13,
     "metadata": {},
     "output_type": "execute_result"
    }
   ],
   "source": [
    "data.dtypes"
   ]
  },
  {
   "cell_type": "markdown",
   "metadata": {},
   "source": [
    "# Applying SQL Queries\n"
   ]
  },
  {
   "cell_type": "code",
   "execution_count": 80,
   "metadata": {},
   "outputs": [],
   "source": [
    "import mysql.connector\n",
    "from pprint import pprint"
   ]
  },
  {
   "cell_type": "code",
   "execution_count": 81,
   "metadata": {},
   "outputs": [],
   "source": [
    "db = mysql.connector.connect(host = \"localhost\", \n",
    "                             user = \"root\",\n",
    "                            passwd = \"qwerty1234\",\n",
    "                            database = \"testdb\")\n",
    "\n"
   ]
  },
  {
   "cell_type": "code",
   "execution_count": 82,
   "metadata": {},
   "outputs": [],
   "source": [
    "mycursor = db.cursor()"
   ]
  },
  {
   "cell_type": "markdown",
   "metadata": {},
   "source": [
    "CREATING DATABASE"
   ]
  },
  {
   "cell_type": "code",
   "execution_count": 83,
   "metadata": {},
   "outputs": [],
   "source": [
    "#mycursor = db.cursor()\n",
    "\n",
    "#mycursor.execute(\"CREATE DATABASE testdb\")\n",
    "\n"
   ]
  },
  {
   "cell_type": "code",
   "execution_count": 93,
   "metadata": {},
   "outputs": [],
   "source": [
    "cmd = '''\n",
    "CREATE TABLE Customer_Data(\n",
    "Customer_Name VARCHAR(255),\n",
    "Customer VARCHAR(255),\n",
    "Customer_Open_Date  DATE,\n",
    "Last_Consulted_Date DATE,\n",
    "Vaccination_Type CHAR(5),\n",
    "Doctor_Consulted CHAR(255),\n",
    "State CHAR(5),\n",
    "Country CHAR(5),\n",
    "Postcode INTEGER,\n",
    "FLAG CHAR(1)\n",
    ");\n",
    "'''\n",
    "mycursor.execute(cmd)"
   ]
  },
  {
   "cell_type": "code",
   "execution_count": 94,
   "metadata": {},
   "outputs": [],
   "source": [
    "for i,row in data.iterrows():\n",
    "    sql = \"INSERT INTO testdb.Customer_Data VALUES (%s,%s,%s,%s,%s,%s,%s,%s,%s,%s)\"\n",
    "    mycursor.execute(sql, tuple(row))\n",
    "    db.commit()"
   ]
  },
  {
   "cell_type": "markdown",
   "metadata": {},
   "source": [
    "Checking if Database Running successfully"
   ]
  },
  {
   "cell_type": "code",
   "execution_count": 95,
   "metadata": {},
   "outputs": [
    {
     "name": "stdout",
     "output_type": "stream",
     "text": [
      "('Alex', '123457', datetime.date(2010, 10, 12), datetime.date(2012, 10, 13), 'MVD', 'Paul', 'SA', 'USA', 121002, 'A')\n",
      "('John ', '123458', datetime.date(2010, 10, 12), datetime.date(2012, 10, 13), 'MVD', 'Paul', 'TN', 'IND', 121002, 'A')\n",
      "('Mathew', '123459', datetime.date(2010, 10, 12), datetime.date(2012, 10, 13), 'MVD', 'Paul', 'WAS', 'PHIL', 121002, 'A')\n",
      "('Matt', '12345', datetime.date(2010, 10, 12), datetime.date(2012, 10, 13), 'MVD', 'Paul', 'BOS', 'NYC', 121002, 'A')\n",
      "('Jacob', '1256', datetime.date(2010, 10, 12), datetime.date(2012, 10, 13), 'MVD', 'Paul', 'VIC', 'AU', 121002, 'A')\n"
     ]
    }
   ],
   "source": [
    "cmd = \"SELECT * FROM Customer_Data\"\n",
    "mycursor.execute(cmd)\n",
    "\n",
    "result = mycursor.fetchall()\n",
    "for i in result:\n",
    "    print(i)"
   ]
  },
  {
   "cell_type": "markdown",
   "metadata": {},
   "source": [
    "Fetching the country base data"
   ]
  },
  {
   "cell_type": "code",
   "execution_count": 96,
   "metadata": {},
   "outputs": [
    {
     "data": {
      "text/html": [
       "<div>\n",
       "<style scoped>\n",
       "    .dataframe tbody tr th:only-of-type {\n",
       "        vertical-align: middle;\n",
       "    }\n",
       "\n",
       "    .dataframe tbody tr th {\n",
       "        vertical-align: top;\n",
       "    }\n",
       "\n",
       "    .dataframe thead th {\n",
       "        text-align: right;\n",
       "    }\n",
       "</style>\n",
       "<table border=\"1\" class=\"dataframe\">\n",
       "  <thead>\n",
       "    <tr style=\"text-align: right;\">\n",
       "      <th></th>\n",
       "      <th>Customer_Name</th>\n",
       "      <th>Customer</th>\n",
       "      <th>Customer_Open_Date</th>\n",
       "      <th>Last_Consulted_Date</th>\n",
       "      <th>Vaccination_Type</th>\n",
       "      <th>Doctor_Consulted</th>\n",
       "      <th>State</th>\n",
       "      <th>Country</th>\n",
       "      <th>Postcode</th>\n",
       "      <th>FLAG</th>\n",
       "    </tr>\n",
       "  </thead>\n",
       "  <tbody>\n",
       "    <tr>\n",
       "      <th>0</th>\n",
       "      <td>Alex</td>\n",
       "      <td>123457</td>\n",
       "      <td>2010-10-12</td>\n",
       "      <td>2012-10-13</td>\n",
       "      <td>MVD</td>\n",
       "      <td>Paul</td>\n",
       "      <td>SA</td>\n",
       "      <td>USA</td>\n",
       "      <td>121002</td>\n",
       "      <td>A</td>\n",
       "    </tr>\n",
       "  </tbody>\n",
       "</table>\n",
       "</div>"
      ],
      "text/plain": [
       "  Customer_Name Customer Customer_Open_Date Last_Consulted_Date  \\\n",
       "0          Alex   123457         2010-10-12          2012-10-13   \n",
       "\n",
       "  Vaccination_Type Doctor_Consulted State Country  Postcode FLAG  \n",
       "0              MVD             Paul    SA     USA    121002    A  "
      ]
     },
     "execution_count": 96,
     "metadata": {},
     "output_type": "execute_result"
    }
   ],
   "source": [
    "cmd = '''\n",
    "SELECT Customer_Name, Customer, Customer_Open_Date, Last_Consulted_Date, Vaccination_Type, Doctor_Consulted, State, Country, Postcode, FLAG \n",
    "\n",
    "FROM Customer_Data\n",
    "\n",
    "WHERE Country = \"USA\"\n",
    "\n",
    ";\n",
    "'''\n",
    "mycursor.execute(cmd)\n",
    "answer1 = mycursor.fetchall()\n",
    "answer1 = pd.DataFrame(answer1, columns= ['Customer_Name','Customer','Customer_Open_Date','Last_Consulted_Date','Vaccination_Type','Doctor_Consulted','State','Country','Postcode','FLAG'])\n",
    "answer1"
   ]
  },
  {
   "cell_type": "code",
   "execution_count": 97,
   "metadata": {},
   "outputs": [],
   "source": [
    "def Country_Name(Country):\n",
    "    cmd = ''' select * from Customer_Data where Country = \"USA\";'''\n",
    "    mycursor.execute(cmd)\n",
    "    ans = mycursor.fetchall()\n",
    "    return ans"
   ]
  },
  {
   "cell_type": "code",
   "execution_count": 98,
   "metadata": {},
   "outputs": [
    {
     "data": {
      "text/plain": [
       "[('Alex',\n",
       "  '123457',\n",
       "  datetime.date(2010, 10, 12),\n",
       "  datetime.date(2012, 10, 13),\n",
       "  'MVD',\n",
       "  'Paul',\n",
       "  'SA',\n",
       "  'USA',\n",
       "  121002,\n",
       "  'A')]"
      ]
     },
     "execution_count": 98,
     "metadata": {},
     "output_type": "execute_result"
    }
   ],
   "source": [
    "Country_Name(\"USA\")"
   ]
  }
 ],
 "metadata": {
  "kernelspec": {
   "display_name": "Python 3",
   "language": "python",
   "name": "python3"
  },
  "language_info": {
   "codemirror_mode": {
    "name": "ipython",
    "version": 3
   },
   "file_extension": ".py",
   "mimetype": "text/x-python",
   "name": "python",
   "nbconvert_exporter": "python",
   "pygments_lexer": "ipython3",
   "version": "3.8.5"
  }
 },
 "nbformat": 4,
 "nbformat_minor": 4
}
